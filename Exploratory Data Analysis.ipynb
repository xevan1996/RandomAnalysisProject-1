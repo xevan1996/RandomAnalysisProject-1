{
 "cells": [
  {
   "cell_type": "markdown",
   "id": "919e2eaf",
   "metadata": {},
   "source": [
    "# Libraries"
   ]
  },
  {
   "cell_type": "code",
   "execution_count": 1,
   "id": "e175c89d",
   "metadata": {},
   "outputs": [],
   "source": [
    "import math\n",
    "import numpy as np\n",
    "import pandas as pd\n",
    "import scipy as scp\n",
    "from scipy.stats import kde\n",
    "import scipy.io\n",
    "import statistics as stats\n",
    "\n",
    "import calendar\n",
    "import dateutil\n",
    "from datetime import datetime\n",
    "from datetime import timedelta\n",
    "from dateutil.relativedelta import relativedelta\n",
    "import time\n",
    "\n",
    "import matplotlib.pyplot as plt\n",
    "from matplotlib import rcParams\n",
    "import seaborn as sns\n",
    "\n",
    "import ipywidgets as widgets\n",
    "from ipywidgets import Layout\n",
    "from ipywidgets import interact\n",
    "import voila\n",
    "\n",
    "from sklearn.preprocessing import StandardScaler\n",
    "from sklearn.model_selection import train_test_split\n",
    "from sklearn.ensemble import RandomForestRegressor\n",
    "\n",
    "\n",
    "import warnings\n",
    "warnings.filterwarnings(\"ignore\")\n",
    "\n",
    "\n",
    "dark_colors = [\"#A51C30\", \"#808080\",\n",
    "                (0.8509803921568627, 0.37254901960784315, 0.00784313725490196),\n",
    "                (0.4588235294117647, 0.4392156862745098, 0.7019607843137254),\n",
    "                (0.9058823529411765, 0.1607843137254902, 0.5411764705882353),\n",
    "                (0.4, 0.6509803921568628, 0.11764705882352941),\n",
    "                (0.9019607843137255, 0.6705882352941176, 0.00784313725490196),\n",
    "                (0.6509803921568628, 0.4627450980392157, 0.11372549019607843),\n",
    "                (0.4, 0.4, 0.4)]\n",
    "\n",
    "rcParams['figure.figsize'] = (18, 12)\n",
    "rcParams['figure.dpi'] = 150\n",
    "rcParams[\"axes.grid\"] =True\n",
    "rcParams['agg.path.chunksize'] = 10000\n",
    "\n",
    "rcParams['axes.prop_cycle'] = plt.cycler(color = dark_colors)\n",
    "rcParams['lines.linewidth'] = 2\n",
    "rcParams['axes.facecolor'] = \"white\"\n",
    "rcParams['axes.titlesize'] = 20      \n",
    "rcParams['axes.labelsize'] = 17.5\n",
    "rcParams['xtick.labelsize'] = 13 \n",
    "rcParams['ytick.labelsize'] = 13\n",
    "rcParams['legend.fontsize'] = 15.5\n",
    "rcParams['patch.edgecolor'] = 'none'\n",
    "rcParams['grid.color']=\"gray\"   \n",
    "rcParams['grid.linestyle']=\"-\" \n",
    "rcParams['grid.linewidth'] = 0.3\n",
    "rcParams['grid.alpha']=1\n",
    "rcParams['text.color'] = \"444444\"\n",
    "rcParams['axes.labelcolor'] = \"444444\"\n",
    "rcParams['ytick.color'] = \"444444\"\n",
    "rcParams['xtick.color'] = \"444444\""
   ]
  },
  {
   "cell_type": "markdown",
   "id": "6f48b233",
   "metadata": {},
   "source": [
    "# Exploratory Data Analysis"
   ]
  },
  {
   "cell_type": "markdown",
   "id": "c11ffa1f",
   "metadata": {},
   "source": [
    "ALL OF THE GRAPHS SHOWN DOWN BELOW ARE INTERACTIVE, EITHER RUN EACH OF THE CELL ONCE TO GET THE SLIDERS AND GRAPHS TO SHOW OR CLICK ON \"Voila\" ON THE JUPYTER NOTEBOOK TOOLBAR TO RENDER IT AS A DASHBOARD.\n",
    "\n",
    "1. For Pearson Correlation Matrix and Pair Plot, It will take a longer time to render due to the sheer number of features.  \n",
    "2. This notebook is separated from the training notebook due to the incapability of Voila to limit which cells to run for the dashboard (i.e. it will run the whole thing).  \n",
    "3. Issues have been raised by the community regarding Voila in which sometimes it doesn't render the notebook properly due to possible version conflict. As such, simply run all cells directly in this notebook and this should achieve the same result, sorry for the inconvenience caused.  "
   ]
  },
  {
   "cell_type": "code",
   "execution_count": 2,
   "id": "a0b6480e",
   "metadata": {},
   "outputs": [
    {
     "name": "stdout",
     "output_type": "stream",
     "text": [
      "----------------------------------------------------------------------------------------------------\n",
      "Number of Null/Missing Values\t: 98\n",
      "Number of Duplicated Entries\t: 0\n",
      "----------------------------------------------------------------------------------------------------\n"
     ]
    }
   ],
   "source": [
    "FILENAME = 'data.csv'\n",
    "dst = pd.read_csv(FILENAME)\n",
    "\n",
    "key_word = 'feat_'\n",
    "key_word_list = []\n",
    "\n",
    "for x in range(1, dst.shape[1]):\n",
    "    key_word_list.append(key_word + str(x))\n",
    "    \n",
    "    if x == dst.shape[1] - 1:\n",
    "        key_word_list.append('label')\n",
    "        \n",
    "dst.columns = key_word_list\n",
    "\n",
    "print('-----' * 20)\n",
    "print('Number of Null/Missing Values\\t: {}'.format(dst.isnull().sum().sum()))\n",
    "print('Number of Duplicated Entries\\t: {}'.format(len(dst)-len(dst.drop_duplicates())))\n",
    "print('-----' * 20)"
   ]
  },
  {
   "cell_type": "code",
   "execution_count": 3,
   "id": "0b16b784",
   "metadata": {
    "scrolled": true
   },
   "outputs": [
    {
     "data": {
      "application/vnd.jupyter.widget-view+json": {
       "model_id": "aae90452e73e467ca8afd1b8e18bc50e",
       "version_major": 2,
       "version_minor": 0
      },
      "text/plain": [
       "interactive(children=(IntSlider(value=1, continuous_update=False, description='Feature Chunk (10 per Chunk) :'…"
      ]
     },
     "metadata": {},
     "output_type": "display_data"
    }
   ],
   "source": [
    "feat_list = list(range(1, dst.shape[1] // 10 + 2, 1))\n",
    "\n",
    "style = {'description_width': 'initial'}\n",
    "\n",
    "feat_list_over = widgets.IntSlider(min = feat_list[0],\n",
    "                                   max = feat_list[-1],\n",
    "                                   step = 1,\n",
    "                                   description = 'Feature Chunk (10 per Chunk) :',\n",
    "                                   disabled = False,\n",
    "                                   continuous_update = False,\n",
    "                                   orientation = 'horizontal',\n",
    "                                   readout = True,\n",
    "                                   readout_format = 'd',\n",
    "                                   style = style,\n",
    "                                   layout = {'width': '500px'}\n",
    "                                  )\n",
    "\n",
    "@interact(feat_list_over = feat_list_over)\n",
    "def get_feature_overview(feat_list_over):\n",
    "    print('\\n FEATURE DATA TYPE')\n",
    "    print('-----' * 20)\n",
    "    dst.iloc[:, feat_list_over * 10 - 10:feat_list_over * 10].info()\n",
    "    print('-----' * 20)\n",
    "    print('\\n\\n FEATURE DESCRIPTION')\n",
    "    print('-----' * 20)\n",
    "    print(dst.iloc[:, feat_list_over * 10 - 10:feat_list_over * 10].describe())\n",
    "    print('-----' * 20)\n",
    "    print('\\n\\n LABEL DESCRIPTION')\n",
    "    print('-----' * 20)\n",
    "    print(dst.label.value_counts())\n",
    "    print('-----' * 20)"
   ]
  },
  {
   "cell_type": "code",
   "execution_count": 4,
   "id": "2ad95176",
   "metadata": {
    "scrolled": false
   },
   "outputs": [
    {
     "data": {
      "application/vnd.jupyter.widget-view+json": {
       "model_id": "e28c719d77644b8f9f404ed627710758",
       "version_major": 2,
       "version_minor": 0
      },
      "text/plain": [
       "interactive(children=(IntSlider(value=1, continuous_update=False, description='Features :', layout=Layout(widt…"
      ]
     },
     "metadata": {},
     "output_type": "display_data"
    }
   ],
   "source": [
    "feat_list_num = list(range(1, dst.shape[1], 1))\n",
    "feat_pair_list = list(range(1, dst.shape[1] // 5 + 2, 1))\n",
    "\n",
    "color = [\"#F08080\",\"#EEE8AA\",\"#90EE90\",\"#FFC0CB\", \"#89CFF0\"]\n",
    "\n",
    "style = {'description_width': 'initial'}\n",
    "\n",
    "feat_list_plot = widgets.IntSlider(min = feat_list_num[0],\n",
    "                                   max = feat_list_num[-1],\n",
    "                                   step = 1,\n",
    "                                   description = 'Features :',\n",
    "                                   disabled = False,\n",
    "                                   continuous_update = False,\n",
    "                                   orientation = 'horizontal',\n",
    "                                   readout = True,\n",
    "                                   readout_format = 'd',\n",
    "                                   style = style,\n",
    "                                   layout = {'width': '500px'}\n",
    "                                  )\n",
    "\n",
    "@interact(feat_list_plot = feat_list_plot)\n",
    "def get_feature_distribution(feat_list_plot):\n",
    "    ax = sns.boxenplot(x = dst.label, y = dst.iloc[:, feat_list_plot - 1], palette = color, width = 0.6)\n",
    "    ax.set(xlabel = 'Label', ylabel = 'Feature ' + str(feat_list_plot), title = 'Feature vs Labels')\n",
    "    \n",
    "    kde_choice = widgets.ToggleButtons(options = ['Yes', 'No'],\n",
    "                                       value = 'No',\n",
    "                                       description = 'Kernel Density Estimation Plot: ',\n",
    "                                       disabled = False,\n",
    "                                       style = style\n",
    "                                      )\n",
    "    \n",
    "    pair_choice = widgets.ToggleButtons(options = ['Yes', 'No'],\n",
    "                                        value = 'No',\n",
    "                                        description = 'Pair Plot (5 per Chunk): ',\n",
    "                                        disabled = False,\n",
    "                                        style = style\n",
    "                                       )\n",
    "    \n",
    "    corr_choice = widgets.ToggleButtons(options = ['Yes', 'No'],\n",
    "                                        value = 'No',\n",
    "                                        description = 'Pearson Correlation Matrix: ',\n",
    "                                        disabled = False,\n",
    "                                        style = style\n",
    "                                       )\n",
    "    \n",
    "    \n",
    "    @interact(kde_choice = kde_choice)\n",
    "    def kde_plot(kde_choice):\n",
    "        if kde_choice == 'Yes':\n",
    "            ax2 = sns.kdeplot(data = dst.iloc[:, feat_list_plot - 1])\n",
    "            mean_val = np.mean(dst.iloc[:, feat_list_plot - 1])\n",
    "            median_val = stats.median(dst.iloc[:, feat_list_plot - 1])\n",
    "            plt.axvline(mean_val, linestyle = 'dashed', linewidth = 3, color = 'g', label = 'Mean')\n",
    "            plt.axvline(median_val, linestyle = 'dashed', linewidth = 3, color = 'y', label = 'Median')\n",
    "            ax2.set(xlabel = 'Feature ' + str(feat_list_plot), title = 'KDE Plot for Feature ' + str(feat_list_plot))\n",
    "            plt.legend()\n",
    "            plt.grid(True)\n",
    "            plt.show()\n",
    "\n",
    "        else:\n",
    "            None\n",
    "            \n",
    "    @interact(pair_choice = pair_choice)\n",
    "    def pair_plot(pair_choice):\n",
    "        if pair_choice == 'Yes':\n",
    "            \n",
    "            feat_pair_plot = widgets.IntSlider(min = feat_pair_list[0],\n",
    "                                               max = feat_pair_list[-1],\n",
    "                                               step = 1,\n",
    "                                               description = 'Features :',\n",
    "                                               disabled = False,\n",
    "                                               continuous_update = False,\n",
    "                                               orientation = 'horizontal',\n",
    "                                               readout = True,\n",
    "                                               readout_format = 'd',\n",
    "                                               style = style,\n",
    "                                               layout = {'width': '500px'}\n",
    "                                              )\n",
    "            \n",
    "            @interact(feat_pair_plot = feat_pair_plot)\n",
    "            def get_pair_plot(feat_pair_plot):\n",
    "                if feat_pair_plot != feat_pair_list[len(feat_pair_list) - 1]:\n",
    "                    dst_2 = dst.iloc[:, feat_pair_plot * 5 - 5:feat_pair_plot * 5].copy()\n",
    "                    dst_2 = pd.concat([dst_2, dst.iloc[:,-1]], \n",
    "                                      axis = 1)\n",
    "                \n",
    "                else:\n",
    "                    remainder_num = feat_list_num[len(feat_list_num) - 1] % 5\n",
    "                    dst_2 = dst.iloc[:, feat_pair_plot * 5 - 5:feat_pair_plot * 5 - (5 - remainder_num)].copy()\n",
    "                    dst_2 = pd.concat([dst_2, dst.iloc[:,-1]], \n",
    "                                      axis = 1)\n",
    "\n",
    "                sns.pairplot(dst_2, hue = 'label', palette = color)\n",
    "            \n",
    "        else:\n",
    "            None\n",
    "            \n",
    "    @interact(corr_choice = corr_choice)\n",
    "    def corr_plot(corr_choice):\n",
    "        if corr_choice == 'Yes':\n",
    "            correlation_matrix = dst.corr(method = 'spearman')\n",
    "            plt.matshow(correlation_matrix)\n",
    "\n",
    "        else:\n",
    "            None"
   ]
  },
  {
   "cell_type": "markdown",
   "id": "320a54b0",
   "metadata": {},
   "source": [
    "# Conclusion\n",
    "\n",
    "1. On first sight, the first RED FLAG here is the PREVALENCE of CLASS A in the label distribution.   \n",
    "2. In other words, whatever predictive model generated will produce 1 strong learner (A) and 4 weak learners (B, C, D, E), essentially contributing to a highly-biased model with imminent OVER-FITTING issue. Please refer to the second notebook to see the exact percentages.  \n",
    "3. One way to solve this issue is to re-sample the whole dataset into a subset of dataset.  \n",
    "4. Secondly, the supposed features had no proper annotations/labels and thus minimal insight can be drawn from domain knowledge. Most of which are float and int64 types with no duplication but 98 null/missing values.  \n",
    "5. Thirdly, the range of values across the entirety of the dataset spans from very small values (even negatives) to extremely high values. Therefore, scaling is mandatory to achieve optimum predictive power.  \n",
    "6. Fourthly, the presence of outliers across the entire dataset could still remain negligible.  \n",
    "7. The following methodologies have been considered to deal with outliers; (A) Clipping between 5 percentile and 95 percentile or (B) Logarithms Transformation Algorithm.\n",
    "8. However, just has it been mentioned before, since the features themselves don't have proper labels and thus it's unclear what they stand for, the performance of any kinds of transformation protocols may potentially impact the outcome of the prediction model negatively and therefore has been decided against in the end.  \n",
    "9. In this case, since the majority of features exhibit nearly Gaussian Distribution, the Standard Scaler would be chosen as the method to scale the dataset. \n",
    "10. Last but not least, from the Pearson Correlation Matrix, it can be inferred that there's simply NO viable correlation between all 153 features, most likely a consequence from an imbalance distribution in labels.  "
   ]
  }
 ],
 "metadata": {
  "kernelspec": {
   "display_name": "Python 3",
   "language": "python",
   "name": "python3"
  },
  "language_info": {
   "codemirror_mode": {
    "name": "ipython",
    "version": 3
   },
   "file_extension": ".py",
   "mimetype": "text/x-python",
   "name": "python",
   "nbconvert_exporter": "python",
   "pygments_lexer": "ipython3",
   "version": "3.8.13"
  },
  "toc": {
   "base_numbering": 1,
   "nav_menu": {},
   "number_sections": true,
   "sideBar": true,
   "skip_h1_title": false,
   "title_cell": "Table of Contents",
   "title_sidebar": "Contents",
   "toc_cell": false,
   "toc_position": {
    "height": "calc(100% - 180px)",
    "left": "10px",
    "top": "150px",
    "width": "362.344px"
   },
   "toc_section_display": true,
   "toc_window_display": true
  }
 },
 "nbformat": 4,
 "nbformat_minor": 5
}
